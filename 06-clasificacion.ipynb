{
 "cells": [
  {
   "cell_type": "markdown",
   "metadata": {},
   "source": [
    "# Trabajo Final Inteligencia Artificial I - año 2018: Visión Artificial\n",
    "---"
   ]
  },
  {
   "cell_type": "markdown",
   "metadata": {},
   "source": [
    "# Dependencias\n",
    "---"
   ]
  },
  {
   "cell_type": "code",
   "execution_count": 61,
   "metadata": {},
   "outputs": [],
   "source": [
    "import numpy as np\n",
    "\n",
    "from matplotlib import pyplot as plt\n",
    "plt.rcParams['image.cmap'] = 'gray'\n",
    "\n",
    "from skimage import io, color, img_as_float, filters\n",
    "from skimage.feature import hog\n",
    "\n",
    "import cv2\n",
    "import mahotas"
   ]
  },
  {
   "cell_type": "markdown",
   "metadata": {},
   "source": [
    "## Funciones y clases definidas"
   ]
  },
  {
   "cell_type": "markdown",
   "metadata": {},
   "source": [
    "- [Representación](./01-representacion.ipynb):"
   ]
  },
  {
   "cell_type": "code",
   "execution_count": 62,
   "metadata": {},
   "outputs": [],
   "source": [
    "def img2grey(image, mode='sk'):\n",
    "    if (mode=='sk'):\n",
    "        gray = color.rgb2gray(image)\n",
    "    elif (mode=='cv'):\n",
    "        gray = cv2.cvtColor(image, cv2.COLOR_BGR2GRAY)\n",
    "    return gray\n",
    "\n",
    "def normSize(image, size=(tuple((400, 300)))):\n",
    "    image = cv2.resize(image, size)\n",
    "    return image"
   ]
  },
  {
   "cell_type": "markdown",
   "metadata": {},
   "source": [
    "- [Filtración](./02-filtracion.ipynb):"
   ]
  },
  {
   "cell_type": "code",
   "execution_count": 63,
   "metadata": {},
   "outputs": [],
   "source": [
    "def imgClean(image, sigma=1, mode='sk'):\n",
    "    if (mode == 'sk'):\n",
    "        clean = filters.gaussian(image, sigma)\n",
    "    elif (mode == 'cv'):\n",
    "        clean = cv2.GaussianBlur(image, (3, 3), 0)\n",
    "    return clean\n",
    "\n",
    "def imgEdge(image, mode='sk'):\n",
    "    if (mode == 'sk'):\n",
    "        edge = filters.sobel(image)\n",
    "    elif (mode == 'cv'):\n",
    "        edge = cv2.Laplacian(image, cv2.CV_64F)\n",
    "    return edge"
   ]
  },
  {
   "cell_type": "markdown",
   "metadata": {},
   "source": [
    "- [Segmentación](./03-segmentacion.ipynb):"
   ]
  },
  {
   "cell_type": "code",
   "execution_count": 64,
   "metadata": {},
   "outputs": [],
   "source": [
    "def threshold(image, mode='sk'):\n",
    "    if (mode == 'sk'):\n",
    "        th = filters.threshold_isodata(image)\n",
    "    elif (mode == 'cv'):\n",
    "        ret, th = cv2.threshold(image, 0, 255,\n",
    "                                cv2.THRESH_BINARY+cv2.THRESH_OTSU)\n",
    "    return (image < th)"
   ]
  },
  {
   "cell_type": "markdown",
   "metadata": {},
   "source": [
    "- [Extracción de características](./04-extraccion.ipynb):"
   ]
  },
  {
   "cell_type": "code",
   "execution_count": 65,
   "metadata": {},
   "outputs": [],
   "source": [
    "def m_hog(image):\n",
    "    feature = hog(image, block_norm='L2-Hys').ravel()\n",
    "    return feature\n",
    "\n",
    "def hu_moments(image):\n",
    "    feature = cv2.HuMoments(cv2.moments(image)).flatten()\n",
    "    return feature\n",
    "\n",
    "def haralick(image):\n",
    "    feature= mahotas.features.haralick(image).mean(axis=0)\n",
    "    return feature\n",
    "\n",
    "def color_histogram(image, mask=None, bins=8):\n",
    "    image = cv2.cvtColor(image, cv2.COLOR_BGR2HSV)\n",
    "    hist = cv2.calcHist([image], [0, 1, 2], None, [bins, bins, bins],\n",
    "                        [0, 256, 0, 256, 0, 256])\n",
    "    cv2.normalize(hist, hist)\n",
    "    feature = hist.flatten()\n",
    "    return feature"
   ]
  },
  {
   "cell_type": "code",
   "execution_count": 66,
   "metadata": {},
   "outputs": [],
   "source": [
    "def stats(arr):\n",
    "    \n",
    "    sum = 0\n",
    "    for value in arr:\n",
    "        sum += value\n",
    "    med = sum / len(arr)\n",
    "    sum = 0\n",
    "    for value in arr:\n",
    "        sum += np.power((value - med), 2)\n",
    "    dstd = np.sqrt(sum / (len(arr) - 1))\n",
    "    \n",
    "    return med, dstd"
   ]
  },
  {
   "cell_type": "markdown",
   "metadata": {},
   "source": [
    "- [Algoritmos](./05-algoritmos.ipynb):"
   ]
  },
  {
   "cell_type": "code",
   "execution_count": 67,
   "metadata": {},
   "outputs": [],
   "source": [
    "class Elemento:\n",
    "    def __init__(self):\n",
    "        self.label = None\n",
    "        self.image = None\n",
    "        self.feature = []\n",
    "        self.distance = 0"
   ]
  },
  {
   "cell_type": "code",
   "execution_count": 68,
   "metadata": {},
   "outputs": [],
   "source": [
    "def printProgressBar(iteration, total, prefix='', suffix='',\n",
    "                     decimals=1, length=100, fill='█'):\n",
    "    \"\"\"\n",
    "    Call in a loop to create terminal progress bar\n",
    "    @params:\n",
    "        iteration   - Required  : current iteration (Int)\n",
    "        total       - Required  : total iterations (Int)\n",
    "        prefix      - Optional  : prefix string (Str)\n",
    "        suffix      - Optional  : suffix string (Str)\n",
    "        decimals    - Optional  : positive number of\n",
    "    decimals in percent complete (Int)\n",
    "        length      - Optional  : character length of bar (Int)\n",
    "        fill        - Optional  : bar fill character (Str)\n",
    "    \"\"\"\n",
    "    percent = (\n",
    "        \"{0:.\" + str(decimals) + \"f}\").format(100 * (iteration / float(total)))\n",
    "    filledLength = int(length * iteration // total)\n",
    "    bar = fill * filledLength + '-' * (length - filledLength)\n",
    "    print('\\r%s |%s| %s%% %s' % (prefix, bar, percent, suffix), end='\\r')\n",
    "    # Print New Line on Complete\n",
    "    if iteration == total:\n",
    "        print()"
   ]
  },
  {
   "cell_type": "code",
   "execution_count": 70,
   "metadata": {},
   "outputs": [],
   "source": [
    "def ft_extract(image):\n",
    "    image = normSize(image)\n",
    "    aux = img2grey(image, mode='cv')\n",
    "    aux = imgClean(aux, mode='cv')\n",
    "    aux = imgEdge(aux)\n",
    "    # aux = threshold(aux, mode='cv')\n",
    "    # image = imgClean(image, mode='cv')\n",
    "    \n",
    "    # image_fht = haralick(aux)\n",
    "    image_fhm = hu_moments(aux)\n",
    "    # image_fch = color_histogram(image)\n",
    "    # image_fhog = m_hog(aux)\n",
    "\n",
    "    # feature = np.hstack([image_fht, image_fhm, image_fhog])\n",
    "    # med, dstd = stats(image_fch)\n",
    "    # feature = feature.reshape(1, -1)\n",
    "\n",
    "    # return aux, [med, dstd]\n",
    "    return aux, [image_fhm[0], image_fhm[1], image_fhm[3]]"
   ]
  },
  {
   "cell_type": "markdown",
   "metadata": {},
   "source": [
    "# Análisis de la base de datos\n",
    "---"
   ]
  },
  {
   "cell_type": "markdown",
   "metadata": {},
   "source": [
    "## Base de datos de entrenamiento"
   ]
  },
  {
   "cell_type": "markdown",
   "metadata": {},
   "source": [
    "Se define una función para analizar repetidas veces la información de entrenamiento de forma más sencilla:"
   ]
  },
  {
   "cell_type": "code",
   "execution_count": 72,
   "metadata": {},
   "outputs": [],
   "source": [
    "def data_analysis():\n",
    "\n",
    "    banana = io.ImageCollection('./data/banana/*.png:./data/banana/*.jpg')\n",
    "    orange = io.ImageCollection('./data/orange/*.png:./data/orange/*.jpg')\n",
    "    lemon = io.ImageCollection('./data/lemon/*.png:./data/lemon/*.jpg')\n",
    "\n",
    "    data = []\n",
    "    i = 0\n",
    "\n",
    "    # Análisis de bananas en base de datos\n",
    "    iter = 0\n",
    "    printProgressBar(iter, len(banana), prefix='Loading banana data:',\n",
    "                     suffix='Complete', length=50)\n",
    "    for fruit in banana:\n",
    "        data.append(Elemento())\n",
    "        data[i].label = 'banana'\n",
    "        data[i].image, data[i].feature = ft_extract(fruit)\n",
    "        i += 1\n",
    "        iter += 1\n",
    "        printProgressBar(iter, len(banana), prefix='Loading banana data:',\n",
    "                         suffix='Complete', length=50)\n",
    "    print(\"Banana data is ready\")\n",
    "\n",
    "    # Análisis de naranjas en base de datos\n",
    "    iter = 0\n",
    "    printProgressBar(iter, len(orange), prefix='Loading orange data:',\n",
    "                     suffix='Complete', length=50)\n",
    "    for fruit in orange:\n",
    "        data.append(Elemento())\n",
    "        data[i].label = 'orange'\n",
    "        data[i].image, data[i].feature = ft_extract(fruit)\n",
    "        i += 1\n",
    "        iter += 1\n",
    "        printProgressBar(iter, len(orange), prefix='Loading orange data:',\n",
    "                         suffix='Complete', length=50)\n",
    "    print(\"Orange data is ready\")\n",
    "\n",
    "    # Análisis de limones en la base de datos\n",
    "    iter = 0\n",
    "    printProgressBar(iter, len(lemon), prefix='Loading lemon data:',\n",
    "                     suffix='Complete', length=50)\n",
    "    for fruit in lemon:\n",
    "        data.append(Elemento())\n",
    "        data[i].label = 'lemon'\n",
    "        data[i].image, data[i].feature = ft_extract(fruit)\n",
    "        i += 1\n",
    "        iter += 1\n",
    "        printProgressBar(iter, len(lemon), prefix='Loading lemon data:',\n",
    "                         suffix='Complete', length=50)\n",
    "    print(\"Lemon data is ready\")\n",
    "\n",
    "    print(\"Data analysis completed\")\n",
    "    return data"
   ]
  },
  {
   "cell_type": "markdown",
   "metadata": {},
   "source": [
    "## Base de datos de testeo"
   ]
  },
  {
   "cell_type": "markdown",
   "metadata": {},
   "source": [
    "Se define una función para analizar repetidas veces la información de testeo de forma más sencilla:"
   ]
  },
  {
   "cell_type": "code",
   "execution_count": 73,
   "metadata": {},
   "outputs": [],
   "source": [
    "def test_analysis():\n",
    "\n",
    "    banana_test = io.ImageCollection('./test/banana/*.png:./test/banana/*.jpg')\n",
    "    orange_test = io.ImageCollection('./test/orange/*.png:./test/orange/*.jpg')\n",
    "    lemon_test = io.ImageCollection('./test/lemon/*.png:./test/lemon/*.jpg')\n",
    "\n",
    "    test = []\n",
    "    i = 0\n",
    "\n",
    "    # Análisis de bananas en base de datos\n",
    "    iter = 0\n",
    "    printProgressBar(iter, len(banana_test), prefix='Loading banana test data:',\n",
    "                     suffix='Complete', length=50)\n",
    "    for fruit in banana_test:\n",
    "        test.append(Elemento())\n",
    "        test[i].label = 'banana'\n",
    "        test[i].image, test[i].feature = ft_extract(fruit)\n",
    "        i += 1\n",
    "        iter += 1\n",
    "        printProgressBar(iter, len(banana_test), prefix='Loading banana test data:',\n",
    "                         suffix='Complete', length=50)\n",
    "    print(\"Banana test data is ready\")\n",
    "\n",
    "    # Análisis de naranjas en base de datos\n",
    "    iter = 0\n",
    "    printProgressBar(iter, len(orange_test), prefix='Loading orange test data:',\n",
    "                     suffix='Complete', length=50)\n",
    "    for fruit in orange_test:\n",
    "        test.append(Elemento())\n",
    "        test[i].label = 'orange'\n",
    "        test[i].image, test[i].feature = ft_extract(fruit)\n",
    "        i += 1\n",
    "        iter += 1\n",
    "        printProgressBar(iter, len(orange_test), prefix='Loading orange test data:',\n",
    "                         suffix='Complete', length=50)\n",
    "    print(\"Orange test data is ready\")\n",
    "\n",
    "    # Análisis de limones en la base de datos\n",
    "    iter = 0\n",
    "    printProgressBar(iter, len(lemon_test), prefix='Loading lemon test data:',\n",
    "                     suffix='Complete', length=50)\n",
    "    for fruit in lemon_test:\n",
    "        test.append(Elemento())\n",
    "        test[i].label = 'lemon'\n",
    "        test[i].image, test[i].feature = ft_extract(fruit)\n",
    "        i += 1\n",
    "        iter += 1\n",
    "        printProgressBar(iter, len(lemon_test), prefix='Loading lemon test data:',\n",
    "                         suffix='Complete', length=50)\n",
    "    print(\"Lemon test data is ready\")\n",
    "\n",
    "    print(\"Test data analysis completed\")\n",
    "    return test"
   ]
  },
  {
   "cell_type": "markdown",
   "metadata": {},
   "source": [
    "# Resultados con algoritmo K-nn\n",
    "---"
   ]
  },
  {
   "cell_type": "markdown",
   "metadata": {},
   "source": [
    "Se define una función con la implementación del algoritmo K-nn que recibe como parámetro **K**, para poder ejecutar repetidas veces con K variable de forma sencilla:"
   ]
  },
  {
   "cell_type": "code",
   "execution_count": 74,
   "metadata": {},
   "outputs": [],
   "source": [
    "# NOTA IMPORTANTE: Antes de ejecutar este bloque \n",
    "# actualizar base de datos test\n",
    "\n",
    "def knn(k, data, test):\n",
    "\n",
    "    correct = 0\n",
    "\n",
    "    for t in test:\n",
    "\n",
    "        for element in data:\n",
    "            sum = 0\n",
    "            i = 0\n",
    "            for ft in (element.feature):\n",
    "                sum = sum + np.power(np.abs((t.feature[i]) - ft), 2)\n",
    "                i += 1\n",
    "\n",
    "            element.distance = np.sqrt(sum)\n",
    "\n",
    "        # Bubblesort\n",
    "        swap = True\n",
    "        while (swap):\n",
    "            swap = False\n",
    "            for i in range(1, len(data)-1) :\n",
    "                if (data[i-1].distance > data[i].distance):\n",
    "                    aux = data[i]\n",
    "                    data[i] = data[i-1]\n",
    "                    data[i-1] = aux\n",
    "                    swap = True\n",
    "\n",
    "        eval = [0, 0, 0]\n",
    "\n",
    "        for i in range(0, k):\n",
    "\n",
    "            if (data[i].label == 'banana'):\n",
    "                eval[0] += 10\n",
    "\n",
    "            if (data[i].label == 'orange'):\n",
    "                eval[1] += 10\n",
    "\n",
    "            if (data[i].label == 'lemon'):\n",
    "                eval[2] += 10\n",
    "\n",
    "        aux = eval[0]\n",
    "        if (aux < eval[1]):\n",
    "            aux = eval[1]\n",
    "        if (aux < eval[2]):\n",
    "            aux = eval[2]\n",
    "\n",
    "        if (aux == eval[0]):\n",
    "            label = 'banana'\n",
    "        if (aux == eval[1]):\n",
    "            label = 'orange'\n",
    "        if (aux == eval[2]):\n",
    "            label = 'lemon'\n",
    "\n",
    "        if (t.label == label):\n",
    "            correct += 1\n",
    "         \n",
    "    return correct"
   ]
  },
  {
   "cell_type": "markdown",
   "metadata": {},
   "source": [
    "## Rendimiento en función de K\n",
    "Para ejecutar el siguiente código, cambiar kernel a un kernel de bash."
   ]
  },
  {
   "cell_type": "code",
   "execution_count": 77,
   "metadata": {},
   "outputs": [
    {
     "name": "stdout",
     "output_type": "stream",
     "text": [
      "Loading banana data: |██████████████████████████████████████████████████| 100.0% Complete\n",
      "Banana data is ready\n",
      "Loading orange data: |██████████████████████████████████████████████████| 100.0% Complete\n",
      "Orange data is ready\n",
      "Loading lemon data: |██████████████████████████████████████████████████| 100.0% Complete\n",
      "Lemon data is ready\n",
      "Data analysis completed\n",
      "Loading banana test data: |██████████████████████████████████████████████████| 100.0% Complete\n",
      "Banana test data is ready\n",
      "Loading orange test data: |██████████████████████████████████████████████████| 100.0% Complete\n",
      "Orange test data is ready\n",
      "Loading lemon test data: |██████████████████████████████████████████████████| 100.0% Complete\n",
      "Lemon test data is ready\n",
      "Test data analysis completed\n",
      "Progreso: |██████████████████████████████████████████████████| 100.0% Total\n"
     ]
    }
   ],
   "source": [
    "data = data_analysis()\n",
    "test = test_analysis()\n",
    "\n",
    "MAX = 50\n",
    "\n",
    "ans = []\n",
    "printProgressBar(0, MAX, prefix='Progreso:',\n",
    "             suffix='Total', length=50)\n",
    "\n",
    "for k in range(1, MAX):\n",
    "    ans.append(knn(k, data, test))\n",
    "    printProgressBar(k, MAX, prefix='Progreso:',\n",
    "                 suffix='Total', length=50)\n",
    "\n",
    "printProgressBar(MAX, MAX, prefix='Progreso:',\n",
    "             suffix='Total', length=50)"
   ]
  },
  {
   "cell_type": "code",
   "execution_count": 78,
   "metadata": {},
   "outputs": [
    {
     "data": {
      "text/plain": [
       "Text(0.5,0,'K')"
      ]
     },
     "execution_count": 78,
     "metadata": {},
     "output_type": "execute_result"
    },
    {
     "data": {
      "image/png": "[encoded data removed]",
      "text/plain": [
       "<Figure size 432x288 with 1 Axes>"
      ]
     },
     "metadata": {
      "needs_background": "light"
     },
     "output_type": "display_data"
    }
   ],
   "source": [
    "for i in range(0, len(ans)):\n",
    "    ans[i] = ans[i] * 100 / len(test)\n",
    "\n",
    "fig, ax = plt.subplots()\n",
    "ax.plot(ans)\n",
    "ax.grid(True)\n",
    "ax.set_title('rendimiento en función de K')\n",
    "plt.ylabel('predicciones correctas (%)')\n",
    "plt.xlabel('K')"
   ]
  },
  {
   "cell_type": "markdown",
   "metadata": {},
   "source": [
    "# Resultados con algoritmo K-means\n",
    "---"
   ]
  },
  {
   "cell_type": "markdown",
   "metadata": {},
   "source": [
    "## Entrenamiento del algoritmo"
   ]
  },
  {
   "cell_type": "code",
   "execution_count": null,
   "metadata": {},
   "outputs": [],
   "source": [
    "import random\n",
    "\n",
    "banana_data = []\n",
    "orange_data = []\n",
    "lemon_data = []\n",
    "\n",
    "for element in data:\n",
    "    if (element.label == 'banana'):\n",
    "        banana_data.append(element)\n",
    "    if (element.label == 'orange'):\n",
    "        orange_data.append(element)\n",
    "    if (element.label == 'lemon'):\n",
    "        lemon_data.append(element)\n",
    "\n",
    "b_mean = list(random.choice(banana_data).feature)\n",
    "o_mean = list(random.choice(orange_data).feature)\n",
    "l_mean = list(random.choice(lemon_data).feature)\n",
    "\n",
    "b_flag = True\n",
    "o_flag = True\n",
    "l_flag = True\n",
    "\n",
    "b_len = [0, 0, 0]\n",
    "o_len = [0, 0, 0]\n",
    "l_len = [0, 0, 0]\n",
    "\n",
    "iter = 0\n",
    "\n",
    "# while (b_flag or o_flag or l_flag):\n",
    "while (iter < 20):\n",
    "    \n",
    "    banana_data = []\n",
    "    orange_data = []\n",
    "    lemon_data = []\n",
    "\n",
    "    # ASIGNACION\n",
    "\n",
    "    for element in data:\n",
    "        sum_b = 0\n",
    "        sum_o = 0\n",
    "        sum_l = 0\n",
    "\n",
    "        for i in range(0, len(element.feature)-1):\n",
    "            sum_b += np.power(np.abs(b_mean[i] - element.feature[i]), 2)\n",
    "            sum_o += np.power(np.abs(o_mean[i] - element.feature[i]), 2)\n",
    "            sum_l += np.power(np.abs(l_mean[i] - element.feature[i]), 2)\n",
    "\n",
    "        dist_b = np.sqrt(sum_b)\n",
    "        dist_o = np.sqrt(sum_o)\n",
    "        dist_l = np.sqrt(sum_l)\n",
    "        \n",
    "        aux = dist_b\n",
    "        if (dist_o < aux):\n",
    "            aux = dist_o\n",
    "        if (dist_l < aux):\n",
    "            aux = dist_l\n",
    "            \n",
    "        if (aux == dist_b):\n",
    "            banana_data.append(element.feature)\n",
    "        elif (aux == dist_o):\n",
    "            orange_data.append(element.feature)\n",
    "        elif(aux == dist_l):\n",
    "            lemon_data.append(element.feature)\n",
    "            \n",
    "    # ACTUALIZACION\n",
    "    sum_b = [0, 0, 0]\n",
    "    for b in banana_data:\n",
    "        sum_b[0] += b[0]\n",
    "        sum_b[1] += b[1]\n",
    "        sum_b[2] += b[2]\n",
    "\n",
    "    sum_o = [0, 0, 0]\n",
    "    for o in orange_data:\n",
    "        sum_o[0] += o[0]\n",
    "        sum_o[1] += o[1]\n",
    "        sum_o[2] += o[2]\n",
    "\n",
    "    sum_l = [0, 0, 0]\n",
    "    for l in lemon_data:\n",
    "        sum_l[0] += l[0]\n",
    "        sum_l[1] += l[1]\n",
    "        sum_l[2] += l[2]\n",
    "\n",
    "    b_mean[0] = sum_b[0] / len(banana_data)\n",
    "    b_mean[1] = sum_b[1] / len(banana_data)\n",
    "    b_mean[2] = sum_b[2] / len(banana_data)\n",
    "\n",
    "    o_mean[0] = sum_o[0] / len(orange_data)\n",
    "    o_mean[1] = sum_o[1] / len(orange_data)\n",
    "    o_mean[2] = sum_o[2] / len(orange_data)\n",
    "\n",
    "    l_mean[0] = sum_l[0] / len(lemon_data)\n",
    "    l_mean[1] = sum_l[1] / len(lemon_data)\n",
    "    l_mean[2] = sum_l[1] / len(lemon_data)\n",
    "    \n",
    "    # print(len(banana_data), len(orange_data), len(lemon_data))\n",
    "    \n",
    "    # CONVERGENCIA Y CONDICIÓN DE SALIDA\n",
    "    print(len(banana_data), len(orange_data), len(lemon_data))\n",
    "    \n",
    "    if (b_mean == b_len):\n",
    "        b_flag = False\n",
    "    else:\n",
    "        b_len = b_mean\n",
    "        \n",
    "    if (o_mean == o_len):\n",
    "        o_flag = False\n",
    "    else:\n",
    "        o_len = o_mean\n",
    "\n",
    "    if (l_mean == l_len):\n",
    "        l_flag = False\n",
    "    else:\n",
    "        l_len = l_mean\n",
    "    \n",
    "    iter += 1"
   ]
  },
  {
   "cell_type": "markdown",
   "metadata": {},
   "source": [
    "## Evaluación de rendimiento"
   ]
  },
  {
   "cell_type": "code",
   "execution_count": null,
   "metadata": {},
   "outputs": [],
   "source": [
    "correct = 0\n",
    "\n",
    "printProgressBar(correct, len(test), prefix='Correct predictions:',\n",
    "                 suffix='Total', length=50)\n",
    "\n",
    "for t in test:\n",
    "\n",
    "    sum_b = 0\n",
    "    sum_o = 0\n",
    "    sum_l = 0\n",
    "\n",
    "    for i in range(0, len(t.feature)-1):\n",
    "        sum_b += np.power(np.abs(t.feature[i] - b_mean[i]), 2)\n",
    "        sum_o += np.power(np.abs(t.feature[i] - o_mean[i]), 2)\n",
    "        sum_l += np.power(np.abs(t.feature[i] - l_mean[i]), 2)\n",
    "\n",
    "    dist_b = np.sqrt(sum_b)\n",
    "    dist_o = np.sqrt(sum_o)\n",
    "    dist_l = np.sqrt(sum_l)\n",
    "    # print(dist_b, dist_o, dist_l)\n",
    "    \n",
    "    aux = dist_b\n",
    "    if (dist_o < aux):\n",
    "        aux = dist_o\n",
    "    if (dist_l < aux):\n",
    "        aux = dist_l\n",
    "\n",
    "    if (aux == dist_b):\n",
    "        label = 'banana'\n",
    "    if (aux == dist_o):\n",
    "        label = 'orange'\n",
    "    if (aux == dist_l):\n",
    "        label = 'lemon'\n",
    "\n",
    "    if (t.label == label):\n",
    "        correct += 1\n",
    "    \n",
    "    printProgressBar(correct, len(test), prefix='Corrects prediction:',\n",
    "                 suffix='Total', length=50)"
   ]
  }
 ],
 "metadata": {
  "kernelspec": {
   "display_name": "Python 3",
   "language": "python",
   "name": "python3"
  },
  "language_info": {
   "codemirror_mode": {
    "name": "ipython",
    "version": 3
   },
   "file_extension": ".py",
   "mimetype": "text/x-python",
   "name": "python",
   "nbconvert_exporter": "python",
   "pygments_lexer": "ipython3",
   "version": "3.7.1"
  }
 },
 "nbformat": 4,
 "nbformat_minor": 2
}
