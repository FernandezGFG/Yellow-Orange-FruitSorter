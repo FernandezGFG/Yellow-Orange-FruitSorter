{
 "cells": [
  {
   "cell_type": "markdown",
   "metadata": {},
   "source": [
    "# Trabajo Final Inteligencia Artificial I - año 2018: Visión Artificial\n",
    "---"
   ]
  },
  {
   "cell_type": "markdown",
   "metadata": {},
   "source": [
    "# [Dependencias y resultados previos](./03-segmentacion.ipynb)"
   ]
  },
  {
   "cell_type": "markdown",
   "metadata": {},
   "source": [
    "## Dependencias"
   ]
  },
  {
   "cell_type": "code",
   "execution_count": 2,
   "metadata": {},
   "outputs": [],
   "source": [
    "import numpy as np\n",
    "\n",
    "from matplotlib import pyplot as plt\n",
    "plt.rcParams['image.cmap'] = 'gray'\n",
    "\n",
    "from skimage import io, color, img_as_float, img_as_ubyte, filters"
   ]
  },
  {
   "cell_type": "markdown",
   "metadata": {},
   "source": [
    "## Resultados"
   ]
  },
  {
   "cell_type": "code",
   "execution_count": 3,
   "metadata": {},
   "outputs": [
    {
     "data": {
      "text/plain": [
       "<matplotlib.image.AxesImage at 0x7f41ba059e10>"
      ]
     },
     "execution_count": 3,
     "metadata": {},
     "output_type": "execute_result"
    },
    {
     "data": {
      "image/png": "[encoded data removed]",
      "text/plain": [
       "<Figure size 432x288 with 1 Axes>"
      ]
     },
     "metadata": {
      "needs_background": "light"
     },
     "output_type": "display_data"
    }
   ],
   "source": [
    "img = io.imread('./imgs/examples/banana_example.jpg')\n",
    "banana_float = img_as_float(img)\n",
    "\n",
    "banana = color.rgb2gray(banana_float)\n",
    "bg1 = filters.gaussian(banana, sigma=20)\n",
    "bc1 = filters.sobel(bg1)\n",
    "\n",
    "th = filters.threshold_otsu(bc1)\n",
    "bf = bc1 < th\n",
    "\n",
    "fig, ax = plt.subplots()\n",
    "ax.imshow(bf)"
   ]
  },
  {
   "cell_type": "markdown",
   "metadata": {},
   "source": [
    "---\n",
    "# Extracción de características\n",
    "---"
   ]
  },
  {
   "cell_type": "markdown",
   "metadata": {},
   "source": [
    "La extracción de características de la imágen filtrada y segmentada es el último paso, previo a los algoritmos de clasificación.\n",
    "\n",
    "La extracción consiste en obtener valores numéricos característicos de la imagen que serán la entrada a los algoritmos _K-means_ y _K-nn_."
   ]
  },
  {
   "cell_type": "markdown",
   "metadata": {},
   "source": [
    "## Histograma de Gradientes Orientados (HOG)"
   ]
  },
  {
   "cell_type": "markdown",
   "metadata": {},
   "source": [
    "Se utiliza el algoritmo **HOG** porque la documentación indica que es muy adecuada y popular para reconocimiento de objetos."
   ]
  },
  {
   "cell_type": "code",
   "execution_count": 19,
   "metadata": {},
   "outputs": [],
   "source": [
    "from skimage.feature import hog\n",
    "\n",
    "features = hog(bc1).ravel()\n",
    "\n",
    "#f, ax = plt.subplots()\n",
    "#ax.imshow(hog_img)"
   ]
  },
  {
   "cell_type": "code",
   "execution_count": 20,
   "metadata": {},
   "outputs": [
    {
     "name": "stdout",
     "output_type": "stream",
     "text": [
      "[0.00199165 0.00162954 0.02417816 ... 0.         0.00013947 0.09059246]\n",
      "float64 15288912 (15288912,)\n"
     ]
    }
   ],
   "source": [
    "print(features)\n",
    "print(features.dtype, features.size, features.shape)\n",
    "#features = hog_img.ravel()\n",
    "#print(features)\n",
    "#print(features.dtype, features.size, features.shape)"
   ]
  },
  {
   "cell_type": "markdown",
   "metadata": {},
   "source": [
    "## Análisis de Componente Principal (PCA)"
   ]
  },
  {
   "cell_type": "code",
   "execution_count": 21,
   "metadata": {},
   "outputs": [
    {
     "data": {
      "text/plain": [
       "[<matplotlib.lines.Line2D at 0x7f417d5962b0>]"
      ]
     },
     "execution_count": 21,
     "metadata": {},
     "output_type": "execute_result"
    },
    {
     "data": {
      "image/png": "[encoded data removed]",
      "text/plain": [
       "<Figure size 432x288 with 1 Axes>"
      ]
     },
     "metadata": {
      "needs_background": "light"
     },
     "output_type": "display_data"
    }
   ],
   "source": [
    "from sklearn.decomposition import PCA\n",
    "\n",
    "plt.plot(features)\n",
    "#pca = PCA(n_components=2, svd_solver='full')\n",
    "#pca.fit(hog_img)\n",
    "#pf = pca.transform(hog_img)"
   ]
  },
  {
   "cell_type": "code",
   "execution_count": 32,
   "metadata": {},
   "outputs": [
    {
     "name": "stdout",
     "output_type": "stream",
     "text": [
      "[[-2.14037064e-02  1.61022538e-16]\n",
      " [ 2.14037064e-02 -1.61015762e-16]]\n",
      "float64\n",
      "(2, 2)\n"
     ]
    }
   ],
   "source": [
    "print(pf)\n",
    "print(pf.dtype)\n",
    "print(pf.shape)"
   ]
  }
 ],
 "metadata": {
  "kernelspec": {
   "display_name": "Python 3",
   "language": "python",
   "name": "python3"
  },
  "language_info": {
   "codemirror_mode": {
    "name": "ipython",
    "version": 3
   },
   "file_extension": ".py",
   "mimetype": "text/x-python",
   "name": "python",
   "nbconvert_exporter": "python",
   "pygments_lexer": "ipython3",
   "version": "3.7.1"
  }
 },
 "nbformat": 4,
 "nbformat_minor": 2
}
