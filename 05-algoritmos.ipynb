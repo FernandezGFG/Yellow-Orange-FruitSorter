{
 "cells": [
  {
   "cell_type": "markdown",
   "metadata": {},
   "source": [
    "# Trabajo Final Inteligencia Artificial I - año 2018: Visión Artificial\n",
    "---"
   ]
  },
  {
   "cell_type": "markdown",
   "metadata": {},
   "source": [
    "# Dependencias\n",
    "---"
   ]
  },
  {
   "cell_type": "code",
   "execution_count": 15,
   "metadata": {},
   "outputs": [],
   "source": [
    "import numpy as np\n",
    "\n",
    "from matplotlib import pyplot as plt\n",
    "import matplotlib.patches as mpatches\n",
    "plt.rcParams['image.cmap'] = 'gray'\n",
    "\n",
    "from skimage import io, color, img_as_float, filters\n",
    "from skimage.feature import hog\n",
    "\n",
    "import cv2\n",
    "import mahotas"
   ]
  },
  {
   "cell_type": "markdown",
   "metadata": {},
   "source": [
    "## Funciones definidas"
   ]
  },
  {
   "cell_type": "markdown",
   "metadata": {},
   "source": [
    "* [Representación](./01-representacion.ipynb):"
   ]
  },
  {
   "cell_type": "code",
   "execution_count": 3,
   "metadata": {},
   "outputs": [],
   "source": [
    "def img2grey(image, mode='sk'):\n",
    "    if (mode=='sk'):\n",
    "        gray = color.rgb2gray(image)\n",
    "    elif (mode=='cv'):\n",
    "        gray = cv2.cvtColor(image, cv2.COLOR_BGR2GRAY)\n",
    "    return gray\n",
    "\n",
    "def normSize(image, size=(tuple((400, 300)))):\n",
    "    image = cv2.resize(image, size)\n",
    "    return image"
   ]
  },
  {
   "cell_type": "markdown",
   "metadata": {},
   "source": [
    "* [Filtración](./02-filtracion.ipynb):"
   ]
  },
  {
   "cell_type": "code",
   "execution_count": 4,
   "metadata": {},
   "outputs": [],
   "source": [
    "def imgClean(image, sigma=1, mode='sk'):\n",
    "    if (mode == 'sk'):\n",
    "        clean = filters.gaussian(image, sigma)\n",
    "    elif (mode == 'cv'):\n",
    "        clean = cv2.GaussianBlur(image, (3, 3), 0)\n",
    "    return clean\n",
    "\n",
    "def imgEdge(image, mode='sk'):\n",
    "    if (mode == 'sk'):\n",
    "        edge = filters.sobel(image)\n",
    "    elif (mode == 'cv'):\n",
    "        edge = cv2.Laplacian(image, cv2.CV_64F)\n",
    "    return edge"
   ]
  },
  {
   "cell_type": "markdown",
   "metadata": {},
   "source": [
    "- [Segmentación](./03-segmentacion.ipynb):"
   ]
  },
  {
   "cell_type": "code",
   "execution_count": 5,
   "metadata": {},
   "outputs": [],
   "source": [
    "def threshold(image, mode='sk'):\n",
    "    if (mode == 'sk'):\n",
    "        th = filters.threshold_isodata(image)\n",
    "    elif (mode == 'cv'):\n",
    "        ret, th = cv2.threshold(image, 0, 255,\n",
    "                                cv2.THRESH_BINARY+cv2.THRESH_OTSU)\n",
    "    return (image < th)"
   ]
  },
  {
   "cell_type": "markdown",
   "metadata": {},
   "source": [
    "* [Extracción de características](./04-extraccion.ipynb):"
   ]
  },
  {
   "cell_type": "code",
   "execution_count": 6,
   "metadata": {},
   "outputs": [],
   "source": [
    "def m_hog(image):\n",
    "    feature = hog(image, block_norm='L2-Hys').ravel()\n",
    "    return feature\n",
    "\n",
    "def hu_moments(image):\n",
    "    feature = cv2.HuMoments(cv2.moments(image)).flatten()\n",
    "    return feature\n",
    "\n",
    "def haralick(image):\n",
    "    feature= mahotas.features.haralick(image).mean(axis=0)\n",
    "    return feature\n",
    "\n",
    "def color_histogram(image, mask=None, bins=8):\n",
    "    image = cv2.cvtColor(image, cv2.COLOR_BGR2HSV)\n",
    "    hist = cv2.calcHist([image], [0, 1, 2], None, [bins, bins, bins],\n",
    "                        [0, 256, 0, 256, 0, 256])\n",
    "    cv2.normalize(hist, hist)\n",
    "    feature = hist.flatten()\n",
    "    return feature"
   ]
  },
  {
   "cell_type": "code",
   "execution_count": 7,
   "metadata": {},
   "outputs": [],
   "source": [
    "def stats(arr):\n",
    "    \n",
    "    sum = 0\n",
    "    for value in arr:\n",
    "        sum += value\n",
    "    med = sum / len(arr)\n",
    "    sum = 0\n",
    "    for value in arr:\n",
    "        sum += np.power((value - med), 2)\n",
    "    dstd = np.sqrt(sum / (len(arr) - 1))\n",
    "    \n",
    "    return med, dstd"
   ]
  },
  {
   "cell_type": "markdown",
   "metadata": {},
   "source": [
    "# Implementación de algoritmos de clasificación\n",
    "---"
   ]
  },
  {
   "cell_type": "markdown",
   "metadata": {},
   "source": [
    "## Importar base de datos"
   ]
  },
  {
   "cell_type": "markdown",
   "metadata": {},
   "source": [
    "### Labels"
   ]
  },
  {
   "cell_type": "markdown",
   "metadata": {},
   "source": [
    "Se obtiene el label de cada categoría. Los labels están dado por la estructura de carpetas: las imágenes de naranjas están en la carpeta \"[orange](./data/orange)\", las de bananas en la carpeta \"[banana](./data/banana)\" y las de limones en la carpeta \"[lemon](./data/lemon)\", todo esto dentro de la carpeta \"[data](./data)\"."
   ]
  },
  {
   "cell_type": "code",
   "execution_count": 8,
   "metadata": {},
   "outputs": [],
   "source": [
    "banana = io.ImageCollection('./data/banana/*.png:./data/banana/*.jpg')\n",
    "orange = io.ImageCollection('./data/orange/*.png:./data/orange/*.jpg')\n",
    "lemon = io.ImageCollection('./data/lemon/*.png:./data/lemon/*.jpg')"
   ]
  },
  {
   "cell_type": "markdown",
   "metadata": {},
   "source": [
    "## Extracción de características de toda la base de datos"
   ]
  },
  {
   "cell_type": "markdown",
   "metadata": {},
   "source": [
    "Se crea una clase donde cada instancia de ésta contendrá toda la información necesaria de cada elemento de la base de datos."
   ]
  },
  {
   "cell_type": "code",
   "execution_count": 9,
   "metadata": {},
   "outputs": [],
   "source": [
    "class Elemento:\n",
    "    def __init__(self):\n",
    "        self.label = None\n",
    "        self.image = None\n",
    "        self.feature = []\n",
    "        self.distance = 0"
   ]
  },
  {
   "cell_type": "markdown",
   "metadata": {},
   "source": [
    "Se define una función adicional para ver una **barra de progreso** durante el cómputo (las ejecuciones que prosiguen duran segundos si no es que minutos dependiendo el tamaño de la base de datos).\n",
    "Fuente: [link StackOverflow](https://stackoverflow.com/questions/3173320/text-progress-bar-in-the-console)"
   ]
  },
  {
   "cell_type": "code",
   "execution_count": 10,
   "metadata": {},
   "outputs": [],
   "source": [
    "def printProgressBar(iteration, total, prefix='', suffix='',\n",
    "                     decimals=1, length=100, fill='█'):\n",
    "    \"\"\"\n",
    "    Call in a loop to create terminal progress bar\n",
    "    @params:\n",
    "        iteration   - Required  : current iteration (Int)\n",
    "        total       - Required  : total iterations (Int)\n",
    "        prefix      - Optional  : prefix string (Str)\n",
    "        suffix      - Optional  : suffix string (Str)\n",
    "        decimals    - Optional  : positive number of\n",
    "    decimals in percent complete (Int)\n",
    "        length      - Optional  : character length of bar (Int)\n",
    "        fill        - Optional  : bar fill character (Str)\n",
    "    \"\"\"\n",
    "    percent = (\n",
    "        \"{0:.\" + str(decimals) + \"f}\").format(100 * (iteration / float(total)))\n",
    "    filledLength = int(length * iteration // total)\n",
    "    bar = fill * filledLength + '-' * (length - filledLength)\n",
    "    print('\\r%s |%s| %s%% %s' % (prefix, bar, percent, suffix), end='\\r')\n",
    "    # Print New Line on Complete\n",
    "    if iteration == total:\n",
    "        print()"
   ]
  },
  {
   "cell_type": "markdown",
   "metadata": {},
   "source": [
    "La extracción de características queda definida por la siguiente función:"
   ]
  },
  {
   "cell_type": "code",
   "execution_count": 11,
   "metadata": {},
   "outputs": [],
   "source": [
    "def ft_extract(image):\n",
    "    image = normSize(image)\n",
    "    aux = img2grey(image, mode='cv')\n",
    "    aux = imgClean(aux, mode='cv')\n",
    "    aux = imgEdge(aux)\n",
    "    # aux = threshold(aux, mode='cv')\n",
    "    \n",
    "    # image_fht = haralick(aux)\n",
    "    image_fhm = hu_moments(aux)\n",
    "    # image_fch = color_histogram(image)\n",
    "    # image_fhog = m_hog(aux)\n",
    "\n",
    "    # feature = np.hstack([image_fht, image_fhm, image_fhog])\n",
    "    med, dstd = stats(image_fhm)\n",
    "    # feature = feature.reshape(1, -1)\n",
    "\n",
    "    return aux, [med, dstd]"
   ]
  },
  {
   "cell_type": "markdown",
   "metadata": {},
   "source": [
    "## Análisis de la base de datos"
   ]
  },
  {
   "cell_type": "markdown",
   "metadata": {},
   "source": [
    "Para cada miembro de la base de datos se instancia un objeto Elemento y se lo llena con toda la información necesaria. Esta información es: el vector de características, la imagen procesada y la etiqueta de clase o _label_."
   ]
  },
  {
   "cell_type": "code",
   "execution_count": 16,
   "metadata": {},
   "outputs": [
    {
     "name": "stdout",
     "output_type": "stream",
     "text": [
      "Loading banana data: |██████████████████████████████████████████████████| 100.0% Complete\n",
      "Banana data is ready\n",
      "Loading orange data: |██████████████████████████████████████████████████| 100.0% Complete\n",
      "Orange data is ready\n",
      "Loading lemon data: |██████████████████████████████████████████████████| 100.0% Complete\n",
      "Lemon data is ready\n",
      "Data analysis completed\n"
     ]
    },
    {
     "data": {
      "image/png": "[encoded data removed]",
      "text/plain": [
       "<Figure size 432x288 with 1 Axes>"
      ]
     },
     "metadata": {
      "needs_background": "light"
     },
     "output_type": "display_data"
    }
   ],
   "source": [
    "fig_data, ax = plt.subplots()\n",
    "\n",
    "data = []\n",
    "i = 0\n",
    "\n",
    "# Análisis de bananas en base de datos\n",
    "iter = 0\n",
    "printProgressBar(iter, len(banana), prefix='Loading banana data:',\n",
    "                 suffix='Complete', length=50)\n",
    "for fruit in banana:\n",
    "    data.append(Elemento())\n",
    "    data[i].label = 'banana'\n",
    "    data[i].image, data[i].feature = ft_extract(fruit)\n",
    "    # print(data[i].feature.shape)\n",
    "    ax.plot(data[i].feature[0], data[i].feature[1], 'o', color='yellow')\n",
    "    i += 1\n",
    "    iter += 1\n",
    "    printProgressBar(iter, len(banana), prefix='Loading banana data:',\n",
    "                     suffix='Complete', length=50)\n",
    "print(\"Banana data is ready\")\n",
    "\n",
    "# Análisis de naranjas en base de datos\n",
    "iter = 0\n",
    "printProgressBar(iter, len(orange), prefix='Loading orange data:',\n",
    "                 suffix='Complete', length=50)\n",
    "for fruit in orange:\n",
    "    data.append(Elemento())\n",
    "    data[i].label = 'orange'\n",
    "    data[i].image, data[i].feature = ft_extract(fruit)\n",
    "    ax.plot(data[i].feature[0], data[i].feature[1], 'o', color='red')\n",
    "    i += 1\n",
    "    iter += 1\n",
    "    printProgressBar(iter, len(orange), prefix='Loading orange data:',\n",
    "                     suffix='Complete', length=50)\n",
    "print(\"Orange data is ready\")\n",
    "\n",
    "# Análisis de limones en la base de datos\n",
    "iter = 0\n",
    "printProgressBar(iter, len(lemon), prefix='Loading lemon data:',\n",
    "                 suffix='Complete', length=50)\n",
    "for fruit in lemon:\n",
    "    data.append(Elemento())\n",
    "    data[i].label = 'lemon'\n",
    "    data[i].image, data[i].feature = ft_extract(fruit)\n",
    "    ax.plot(data[i].feature[0], data[i].feature[1], 'o', color='blue')\n",
    "    i += 1\n",
    "    iter += 1\n",
    "    printProgressBar(iter, len(lemon), prefix='Loading lemon data:',\n",
    "                     suffix='Complete', length=50)\n",
    "print(\"Lemon data is ready\")\n",
    "\n",
    "ax.grid(True)\n",
    "ax.set_title(\"Análisis de la base de datos\")\n",
    "\n",
    "yellow_patch = mpatches.Patch(color='yellow', label='banana')\n",
    "red_patch = mpatches.Patch(color='red', label='naranja')\n",
    "blue_patch = mpatches.Patch(color='blue', label='limón')\n",
    "plt.legend(handles=[yellow_patch, red_patch, blue_patch])\n",
    "\n",
    "plt.ylabel('desviación estándar')\n",
    "plt.xlabel('media aritmética')\n",
    "\n",
    "print(\"Data analysis completed\")"
   ]
  },
  {
   "cell_type": "code",
   "execution_count": 13,
   "metadata": {
    "scrolled": false
   },
   "outputs": [
    {
     "name": "stdout",
     "output_type": "stream",
     "text": [
      "400\n",
      "[-4084.777085730308, 7069.640124650946]\n",
      "-4084.777085730308\n"
     ]
    }
   ],
   "source": [
    "print(len(data))\n",
    "print(data[0].feature)\n",
    "print(data[0].feature[0])"
   ]
  },
  {
   "cell_type": "markdown",
   "metadata": {},
   "source": [
    "## Test"
   ]
  },
  {
   "cell_type": "markdown",
   "metadata": {},
   "source": [
    "Se crea un objeto Elemento con la información de la imagen a testear y se la realiza el mismo proceso de extracción de características que para las imágenes de la base de datos:"
   ]
  },
  {
   "cell_type": "code",
   "execution_count": 18,
   "metadata": {},
   "outputs": [
    {
     "data": {
      "image/png": "[encoded data removed]",
      "text/plain": [
       "<Figure size 432x288 with 1 Axes>"
      ]
     },
     "execution_count": 18,
     "metadata": {},
     "output_type": "execute_result"
    }
   ],
   "source": [
    "test = Elemento()\n",
    "image = io.imread('./examples/banana_example.jpg')\n",
    "\n",
    "test.image, test.feature = ft_extract(image)\n",
    "\n",
    "test.label = 'banana' # label inicial\n",
    "\n",
    "ax.plot(test.feature[0], test.feature[1], 'o', color='black')\n",
    "fig_data"
   ]
  },
  {
   "cell_type": "markdown",
   "metadata": {},
   "source": [
    "# Algoritmo K-nn (K-nearest neighbors)\n",
    "---"
   ]
  },
  {
   "cell_type": "markdown",
   "metadata": {},
   "source": [
    "A continuación se implementa el algoritmo _K-nn_ propiamente dicho, calculando las distancias (euclidiana) desde el vector de características de la imagen a testear con los respectivos vectores de características de toda la base de datos.\n",
    "\n",
    "También se da un primer resultado que es para el caso especial $K=1$, es decir, el vecino más cercano:"
   ]
  },
  {
   "cell_type": "code",
   "execution_count": 19,
   "metadata": {},
   "outputs": [
    {
     "name": "stdout",
     "output_type": "stream",
     "text": [
      "banana\n"
     ]
    }
   ],
   "source": [
    "i = 0\n",
    "sum = 0\n",
    "for ft in data[0].feature:\n",
    "        sum = sum + np.power(np.abs(test.feature[i] - ft), 2)\n",
    "        i += 1\n",
    "d = np.sqrt(sum)\n",
    "\n",
    "for element in data:\n",
    "    sum = 0\n",
    "    i = 0\n",
    "    for ft in (element.feature):\n",
    "        sum = sum + np.power(np.abs((test.feature[i]) - ft), 2)\n",
    "        i += 1\n",
    "    \n",
    "    element.distance = np.sqrt(sum)\n",
    "    \n",
    "    if (sum < d):\n",
    "        d = sum\n",
    "        test.label = element.label\n",
    "\n",
    "    \n",
    "print(test.label)"
   ]
  },
  {
   "cell_type": "markdown",
   "metadata": {},
   "source": [
    "Se ordena la información según la distancia al elemento a analizar:"
   ]
  },
  {
   "cell_type": "code",
   "execution_count": 20,
   "metadata": {},
   "outputs": [],
   "source": [
    " #Bubblesort\n",
    "swap = True\n",
    "while (swap):\n",
    "    swap = False\n",
    "    for i in range(1, len(data)-1) :\n",
    "        if (data[i-1].distance > data[i].distance):\n",
    "            aux = data[i]\n",
    "            data[i] = data[i-1]\n",
    "            data[i-1] = aux\n",
    "            swap = True"
   ]
  },
  {
   "cell_type": "markdown",
   "metadata": {},
   "source": [
    "Se presentan los resultados obtenidos para $K=10$:"
   ]
  },
  {
   "cell_type": "code",
   "execution_count": 21,
   "metadata": {
    "scrolled": true
   },
   "outputs": [
    {
     "name": "stdout",
     "output_type": "stream",
     "text": [
      "banana\n",
      "banana\n",
      "banana\n",
      "banana\n",
      "banana\n",
      "banana\n",
      "banana\n",
      "banana\n",
      "banana\n",
      "banana\n"
     ]
    }
   ],
   "source": [
    "k = 10\n",
    "for i in range(k):\n",
    "    print(data[i].label)"
   ]
  },
  {
   "cell_type": "markdown",
   "metadata": {},
   "source": [
    "# K-means\n",
    "---"
   ]
  },
  {
   "cell_type": "markdown",
   "metadata": {},
   "source": [
    "A continuación se realiza el algoritmo K-means, con una breve descripción en cada una de sus etapas para un entendimiento más claro. \n",
    "\n",
    "Su objetivo, a diferencia del algoritmo K-nn donde se compara el vector de características de la imagen a clasificar con cada uno de los vectores de la base de datos, es poder identificar un vector principal en cada clase, denominado **mean**, y luego clasificar de forma similar pero solo comparando distancias con estos vectores. De esta forma el algoritmo se puede separar en dos etapas fundamentales: **entrenamiento** de la base de datos, y **clasificación** de la imagen analizada."
   ]
  },
  {
   "cell_type": "markdown",
   "metadata": {},
   "source": [
    "## Entrenamiento de la base de datos"
   ]
  },
  {
   "cell_type": "markdown",
   "metadata": {},
   "source": [
    "El primer paso es asignar $K$ means para las $K$ clases (en este caso de aplicación tres: banana, naranja y limón) de forma aleatoria. En general se elige al azar tres miembros de la base de datos, sin embargo como en este caso se conoce la clase de los diferentes miembros de la base de datos, se elige aleatoriamente el mean de cada clase aleatoriamente dentro del subconjunto de dicha clase en la base de datos."
   ]
  },
  {
   "cell_type": "code",
   "execution_count": 29,
   "metadata": {},
   "outputs": [],
   "source": [
    "import random\n",
    "\n",
    "banana_data = []\n",
    "orange_data = []\n",
    "lemon_data = []\n",
    "\n",
    "for element in data:\n",
    "    if (element.label == 'banana'):\n",
    "        banana_data.append(element)\n",
    "    if (element.label == 'orange'):\n",
    "        orange_data.append(element)\n",
    "    if (element.label == 'lemon'):\n",
    "        lemon_data.append(element)\n",
    "\n",
    "b_mean = list(random.choice(banana_data).feature)\n",
    "o_mean = list(random.choice(orange_data).feature)\n",
    "l_mean = list(random.choice(lemon_data).feature)"
   ]
  },
  {
   "cell_type": "code",
   "execution_count": 30,
   "metadata": {},
   "outputs": [
    {
     "data": {
      "text/plain": [
       "Text(0.5,0,'media aritmética')"
      ]
     },
     "execution_count": 30,
     "metadata": {},
     "output_type": "execute_result"
    },
    {
     "data": {
      "image/png": "[encoded data removed]",
      "text/plain": [
       "<Figure size 432x288 with 1 Axes>"
      ]
     },
     "metadata": {
      "needs_background": "light"
     },
     "output_type": "display_data"
    }
   ],
   "source": [
    "fig_means, ax = plt.subplots()\n",
    "ax.plot(b_mean[0], b_mean[1], 'o', color='yellow')\n",
    "ax.plot(o_mean[0], o_mean[1], 'o', color='red')\n",
    "ax.plot(l_mean[0], l_mean[1], 'o', color='blue')\n",
    "\n",
    "ax.grid(True)\n",
    "ax.set_title(\"Análisis de la base de datos\")\n",
    "\n",
    "yellow_patch = mpatches.Patch(color='yellow', label='banana')\n",
    "red_patch = mpatches.Patch(color='red', label='naranja')\n",
    "blue_patch = mpatches.Patch(color='blue', label='limón')\n",
    "plt.legend(handles=[yellow_patch, red_patch, blue_patch])\n",
    "\n",
    "plt.ylabel('desviación estándar')\n",
    "plt.xlabel('media aritmética')"
   ]
  },
  {
   "cell_type": "markdown",
   "metadata": {},
   "source": [
    "Luego el proceso de entrenamiento se divide en tres etapas:\n",
    "- **Asignación:** Se le da un label a cada elemento de la base de datos según que mean se encuentra a menor distancia.\n",
    "- **Acualización:** En base a los $K$ grupos formados, se saca el centroide de cada grupo, y dicho centroide pasa a ser el mean de la clase. \n",
    "\n",
    "Estos dos pasos se repiten, los mean van modificando su posición hasta que el algoritmo converge y su posición queda fijada.\n",
    "\n",
    "- **Condición de salida:** En esta implementación se utiliza como condición de salida que la longitud de los tres grupos se mantenga constante. Esto indirectamente quiere decir que la posición de los tres mean será constante. Otra condición diferente podría ser el corte de la ejecución por cantidad de iteraciones."
   ]
  },
  {
   "cell_type": "code",
   "execution_count": 31,
   "metadata": {},
   "outputs": [
    {
     "name": "stdout",
     "output_type": "stream",
     "text": [
      "61 123 216\n",
      "25 54 321\n",
      "11 47 342\n",
      "8 45 347\n",
      "6 43 351\n",
      "5 43 352\n",
      "4 43 353\n",
      "4 43 353\n",
      "4 43 353\n",
      "4 43 353\n"
     ]
    }
   ],
   "source": [
    "b_flag = True\n",
    "o_flag = True\n",
    "l_flag = True\n",
    "\n",
    "b_len = [0, 0]\n",
    "o_len = [0, 0]\n",
    "l_len = [0, 0]\n",
    "\n",
    "iter = 0\n",
    "#while (b_flag or o_flag or l_flag):\n",
    "while (iter < 10):\n",
    "\n",
    "    banana_data = []\n",
    "    orange_data = []\n",
    "    lemon_data = []\n",
    "\n",
    "    # ASIGNACION\n",
    "\n",
    "    for element in data:\n",
    "        sum_b = 0\n",
    "        sum_o = 0\n",
    "        sum_l = 0\n",
    "\n",
    "        for i in range(0, len(element.feature)-1):\n",
    "            sum_b += np.power(np.abs(b_mean[i] - element.feature[i]), 2)\n",
    "            sum_o += np.power(np.abs(o_mean[i] - element.feature[i]), 2)\n",
    "            sum_l += np.power(np.abs(l_mean[i] - element.feature[i]), 2)\n",
    "\n",
    "        dist_b = np.sqrt(sum_b)\n",
    "        dist_o = np.sqrt(sum_o)\n",
    "        dist_l = np.sqrt(sum_l)\n",
    "        \n",
    "        aux = dist_b\n",
    "        if (dist_o < aux):\n",
    "            aux = dist_o\n",
    "        if (dist_l < aux):\n",
    "            aux = dist_l\n",
    "            \n",
    "        if (aux == dist_b):\n",
    "            banana_data.append(element.feature)\n",
    "        elif (aux == dist_o):\n",
    "            orange_data.append(element.feature)\n",
    "        elif(aux == dist_l):\n",
    "            lemon_data.append(element.feature)\n",
    "            \n",
    "    # ACTUALIZACION\n",
    "    sum_b = [0, 0]\n",
    "    for b in banana_data:\n",
    "        sum_b[0] += b[0]\n",
    "        sum_b[1] += b[1]\n",
    "        \n",
    "    sum_o = [0, 0]\n",
    "    for o in orange_data:\n",
    "        sum_o[0] += o[0]\n",
    "        sum_o[1] += o[1]\n",
    "        \n",
    "    sum_l = [0, 0]\n",
    "    for l in lemon_data:\n",
    "        sum_l[0] += l[0]\n",
    "        sum_l[1] += l[1]\n",
    "    \n",
    "    b_mean[0] = sum_b[0] / len(banana_data)\n",
    "    b_mean[1] = sum_b[1] / len(banana_data)\n",
    "    o_mean[0] = sum_o[0] / len(orange_data)\n",
    "    o_mean[1] = sum_o[1] / len(orange_data)\n",
    "    l_mean[0] = sum_l[0] / len(lemon_data)\n",
    "    l_mean[1] = sum_l[1] / len(lemon_data)\n",
    "    \n",
    "    print(len(banana_data), len(orange_data), len(lemon_data))\n",
    "    \n",
    "    # CONVERGENCIA Y CONDICIÓN DE SALIDA\n",
    "    #print(len(banana_data), len(orange_data), len(lemon_data))\n",
    "    \"\"\"\n",
    "    if (b_mean == b_len):\n",
    "        b_flag = False\n",
    "    else:\n",
    "        b_len = b_mean\n",
    "        \n",
    "    if (o_mean == o_len):\n",
    "        o_flag = False\n",
    "    else:\n",
    "        o_len = o_mean\n",
    "\n",
    "    if (l_mean == l_len):\n",
    "        l_flag = False\n",
    "    else:\n",
    "        l_len = l_mean\n",
    "    \"\"\"\n",
    "    iter += 1"
   ]
  },
  {
   "cell_type": "markdown",
   "metadata": {},
   "source": [
    "### Ubicación de los means finales"
   ]
  },
  {
   "cell_type": "code",
   "execution_count": 32,
   "metadata": {
    "scrolled": false
   },
   "outputs": [
    {
     "name": "stdout",
     "output_type": "stream",
     "text": [
      "4 43 353\n"
     ]
    },
    {
     "data": {
      "image/png": "[encoded data removed]",
      "text/plain": [
       "<Figure size 432x288 with 1 Axes>"
      ]
     },
     "execution_count": 32,
     "metadata": {},
     "output_type": "execute_result"
    }
   ],
   "source": [
    "#%matplotlib inline\n",
    "\n",
    "#fig_means, ax = plt.subplots()\n",
    "ax.plot(b_mean[0], b_mean[1], 'o', color='black')\n",
    "ax.plot(o_mean[0], o_mean[1], 'o', color='black')\n",
    "ax.plot(l_mean[0], l_mean[1], 'o', color='black')\n",
    "\n",
    "print(len(banana_data), len(orange_data), len(lemon_data))\n",
    "fig_means\n",
    "\n"
   ]
  },
  {
   "cell_type": "markdown",
   "metadata": {},
   "source": [
    "### Resultado final"
   ]
  },
  {
   "cell_type": "markdown",
   "metadata": {},
   "source": [
    "Se comparan las distancias del vector de características de la imagen a testear con los means finales obtenidos. La clase de la imagen será la del mean más cercano."
   ]
  },
  {
   "cell_type": "code",
   "execution_count": 33,
   "metadata": {},
   "outputs": [
    {
     "name": "stdout",
     "output_type": "stream",
     "text": [
      "43692.700115133615 40246.34347297611 41537.87200995644\n",
      "orange\n"
     ]
    }
   ],
   "source": [
    "sum_b = 0\n",
    "sum_o = 0\n",
    "sum_l = 0\n",
    "\n",
    "for i in range(0, len(test.feature)-1):\n",
    "    sum_b += np.power(np.abs(test.feature[i] - b_mean[i]), 2)\n",
    "    sum_o += np.power(np.abs(test.feature[i] - o_mean[i]), 2)\n",
    "    sum_l += np.power(np.abs(test.feature[i] - l_mean[i]), 2)\n",
    "\n",
    "dist_b = np.sqrt(sum_b)\n",
    "dist_o = np.sqrt(sum_o)\n",
    "dist_l = np.sqrt(sum_l)\n",
    "print(dist_b, dist_o, dist_l)\n",
    "\n",
    "aux = dist_b\n",
    "if (dist_o < aux):\n",
    "    aux = dist_o\n",
    "if (dist_l < aux):\n",
    "    aux = dist_l\n",
    "\n",
    "if (aux == dist_b):\n",
    "    test.label = 'banana'\n",
    "elif (aux == dist_o):\n",
    "    test.label = 'orange'\n",
    "elif(aux == dist_l):\n",
    "    test.label = 'lemon'\n",
    "\n",
    "print(test.label)"
   ]
  }
 ],
 "metadata": {
  "kernelspec": {
   "display_name": "Python 3",
   "language": "python",
   "name": "python3"
  },
  "language_info": {
   "codemirror_mode": {
    "name": "ipython",
    "version": 3
   },
   "file_extension": ".py",
   "mimetype": "text/x-python",
   "name": "python",
   "nbconvert_exporter": "python",
   "pygments_lexer": "ipython3",
   "version": "3.7.1"
  }
 },
 "nbformat": 4,
 "nbformat_minor": 2
}
